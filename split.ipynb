{
 "cells": [
  {
   "cell_type": "code",
   "execution_count": 5,
   "metadata": {},
   "outputs": [],
   "source": [
    "import numpy as np\n",
    "import matplotlib.pyplot as plt\n",
    "import pandas as pd\n",
    "import torch\n",
    "\n",
    "from sklearn.model_selection import train_test_split"
   ]
  },
  {
   "cell_type": "markdown",
   "metadata": {},
   "source": [
    "# 1. Loading the data and preprocessing"
   ]
  },
  {
   "cell_type": "markdown",
   "metadata": {},
   "source": [
    "## 1.1 Split images and captions into training and validation sets"
   ]
  },
  {
   "cell_type": "markdown",
   "metadata": {},
   "source": [
    "### 1.1.2 Splitting images"
   ]
  },
  {
   "cell_type": "code",
   "execution_count": 6,
   "metadata": {},
   "outputs": [
    {
     "name": "stdout",
     "output_type": "stream",
     "text": [
      "Training set: 25426 images\n",
      "Validation set: 6357 images\n"
     ]
    }
   ],
   "source": [
    "import os\n",
    "import shutil\n",
    "\n",
    "image_folder = \"data/raw/Images\"\n",
    "train_folder = \"data/train\"\n",
    "val_folder = \"data/val\"\n",
    "\n",
    "\n",
    "# Create folders\n",
    "if os.path.exists(train_folder):\n",
    "    shutil.rmtree(train_folder)\n",
    "if os.path.exists(val_folder):\n",
    "    shutil.rmtree(val_folder)\n",
    "\n",
    "os.makedirs(train_folder)\n",
    "os.makedirs(val_folder)\n",
    "\n",
    "# Split images\n",
    "images = [f for f in os.listdir(image_folder) if f.endswith((\".jpg\", \".png\"))]\n",
    "train_images, val_images = train_test_split(images, test_size=0.2, random_state=42)\n",
    "\n",
    "\n",
    "def move_images(images, source_folder, target_folder):\n",
    "    for img in images:\n",
    "        shutil.copy(os.path.join(source_folder, img), os.path.join(target_folder, img))\n",
    "\n",
    "\n",
    "move_images(train_images, image_folder, train_folder)\n",
    "move_images(val_images, image_folder, val_folder)\n",
    "\n",
    "print(f\"Training set: {len(os.listdir(train_folder))} images\")\n",
    "print(f\"Validation set: {len(os.listdir(val_folder))} images\")"
   ]
  },
  {
   "cell_type": "markdown",
   "metadata": {},
   "source": [
    "### 1.1.2 Splitting captions"
   ]
  },
  {
   "cell_type": "code",
   "execution_count": 7,
   "metadata": {},
   "outputs": [
    {
     "name": "stdout",
     "output_type": "stream",
     "text": [
      "Training set: 127130 captions\n",
      "Validation set: 31785 captions\n"
     ]
    }
   ],
   "source": [
    "# Split captions\n",
    "captions_file = \"data/captions.txt\"\n",
    "train_captions_file = \"data/train/captions_train.txt\"\n",
    "val_captions_file = \"data/val/captions_val.txt\"\n",
    "\n",
    "# Read captions\n",
    "df = pd.read_csv(captions_file, sep=\",\", header=0, names=[\"image\", \"caption\"])\n",
    "train_captions = df[df[\"image\"].isin(train_images)]\n",
    "val_captions = df[df[\"image\"].isin(val_images)]\n",
    "\n",
    "# Save captions\n",
    "train_captions.to_csv(train_captions_file, sep=\",\", header=False, index=False)\n",
    "val_captions.to_csv(val_captions_file, sep=\",\", header=False, index=False)\n",
    "\n",
    "print(f\"Training set: {len(train_captions)} captions\")\n",
    "print(f\"Validation set: {len(val_captions)} captions\")"
   ]
  },
  {
   "cell_type": "markdown",
   "metadata": {},
   "source": [
    "## 1.2  Small data\n"
   ]
  },
  {
   "cell_type": "code",
   "execution_count": 9,
   "metadata": {},
   "outputs": [
    {
     "name": "stdout",
     "output_type": "stream",
     "text": [
      "Small Training set: 2035 images\n",
      "Small Validation set: 509 images\n",
      "Small Training set: 10175 captions\n",
      "Small Validation set: 2545 captions\n"
     ]
    }
   ],
   "source": [
    "# split images\n",
    "small_train_images, small_val_images = train_test_split(train_images, test_size=0.02, random_state=42)\n",
    "_, small_train_images = train_test_split(small_train_images, test_size=0.08 / 0.98, random_state=42)\n",
    "\n",
    "small_train_folder = \"data/train_small\"\n",
    "small_val_folder = \"data/val_small\"\n",
    "\n",
    "# Create folders\n",
    "if os.path.exists(small_train_folder):\n",
    "    shutil.rmtree(small_train_folder)\n",
    "if os.path.exists(small_val_folder):\n",
    "    shutil.rmtree(small_val_folder)\n",
    "os.makedirs(small_train_folder)\n",
    "os.makedirs(small_val_folder)\n",
    "\n",
    "move_images(small_train_images, image_folder, small_train_folder)\n",
    "move_images(small_val_images, image_folder, small_val_folder)\n",
    "\n",
    "print(f\"Small Training set: {len(os.listdir(small_train_folder))} images\")\n",
    "print(f\"Small Validation set: {len(os.listdir(small_val_folder))} images\")\n",
    "\n",
    "# Split captions\n",
    "small_train_captions_file = \"data/train_small/small_captions_train.txt\"\n",
    "small_val_captions_file = \"data/val_small/small_captions_val.txt\"\n",
    "\n",
    "# Read captions\n",
    "df = pd.read_csv(captions_file, sep=\",\", header=0, names=[\"image\", \"caption\"])\n",
    "small_train_captions = df[df[\"image\"].isin(small_train_images)]\n",
    "small_val_captions = df[df[\"image\"].isin(small_val_images)]\n",
    "\n",
    "# Save captions\n",
    "small_train_captions.to_csv(\n",
    "    small_train_captions_file, sep=\",\", header=False, index=False\n",
    ")\n",
    "small_val_captions.to_csv(small_val_captions_file, sep=\",\", header=False, index=False)\n",
    "\n",
    "print(f\"Small Training set: {len(small_train_captions)} captions\")\n",
    "print(f\"Small Validation set: {len(small_val_captions)} captions\")"
   ]
  }
 ],
 "metadata": {
  "kernelspec": {
   "display_name": "dml",
   "language": "python",
   "name": "python3"
  },
  "language_info": {
   "codemirror_mode": {
    "name": "ipython",
    "version": 3
   },
   "file_extension": ".py",
   "mimetype": "text/x-python",
   "name": "python",
   "nbconvert_exporter": "python",
   "pygments_lexer": "ipython3",
   "version": "3.11.9"
  }
 },
 "nbformat": 4,
 "nbformat_minor": 2
}
