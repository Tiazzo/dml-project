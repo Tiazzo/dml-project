{
 "cells": [
  {
   "cell_type": "code",
   "execution_count": 6,
   "metadata": {},
   "outputs": [],
   "source": [
    "import numpy as np\n",
    "import matplotlib.pyplot as plt\n",
    "import pandas as pd\n",
    "import torch \n",
    "\n",
    "from sklearn.model_selection import train_test_split"
   ]
  },
  {
   "cell_type": "markdown",
   "metadata": {},
   "source": [
    "## Split images into training and validation sets"
   ]
  },
  {
   "cell_type": "markdown",
   "metadata": {},
   "source": [
    "### Splitting images"
   ]
  },
  {
   "cell_type": "code",
   "execution_count": 3,
   "metadata": {},
   "outputs": [
    {
     "name": "stdout",
     "output_type": "stream",
     "text": [
      "Training set: 25426 images\n",
      "Validation set: 6357 images\n"
     ]
    }
   ],
   "source": [
    "import os\n",
    "import shutil\n",
    "\n",
    "image_folder = \"data/raw/Images\"\n",
    "train_folder = \"data/train\"\n",
    "val_folder = \"data/val\"\n",
    "\n",
    "# Create folders\n",
    "os.makedirs(train_folder, exist_ok=True)\n",
    "os.makedirs(val_folder, exist_ok=True)\n",
    "\n",
    "# Split images\n",
    "images = [f for f in os.listdir(image_folder) if f.endswith((\".jpg\", \".png\"))]\n",
    "train_images, val_images = train_test_split(images, test_size=0.2)\n",
    "\n",
    "\n",
    "def move_images(images, source_folder, target_folder):\n",
    "    for img in images:\n",
    "        shutil.move(os.path.join(source_folder, img), os.path.join(target_folder, img))\n",
    "\n",
    "\n",
    "move_images(train_images, image_folder, train_folder)\n",
    "move_images(val_images, image_folder, val_folder)\n",
    "\n",
    "print(f\"Training set: {len(os.listdir(train_folder))} images\")\n",
    "print(f\"Validation set: {len(os.listdir(val_folder))} images\")"
   ]
  },
  {
   "cell_type": "markdown",
   "metadata": {},
   "source": [
    "### Splitting captions"
   ]
  },
  {
   "cell_type": "code",
   "execution_count": 4,
   "metadata": {},
   "outputs": [
    {
     "name": "stdout",
     "output_type": "stream",
     "text": [
      "Training set: 127130 captions\n",
      "Validation set: 31785 captions\n"
     ]
    }
   ],
   "source": [
    "# Split captions\n",
    "captions_file = \"data/captions.txt\"\n",
    "train_captions_file = \"data/train/captions_train.txt\"\n",
    "val_captions_file = \"data/val/captions_val.txt\"\n",
    "\n",
    "# Read captions\n",
    "df = pd.read_csv(captions_file, sep=\",\", header=0, names=[\"image\", \"caption\"])\n",
    "train_captions = df[df[\"image\"].isin(train_images)]\n",
    "val_captions = df[df[\"image\"].isin(val_images)]\n",
    "\n",
    "# Save captions\n",
    "train_captions.to_csv(train_captions_file, sep=\",\", header=False, index=False)\n",
    "val_captions.to_csv(val_captions_file, sep=\",\", header=False, index=False)\n",
    "\n",
    "print(f\"Training set: {len(train_captions)} captions\")\n",
    "print(f\"Validation set: {len(val_captions)} captions\")"
   ]
  }
 ],
 "metadata": {
  "kernelspec": {
   "display_name": "dml",
   "language": "python",
   "name": "python3"
  },
  "language_info": {
   "codemirror_mode": {
    "name": "ipython",
    "version": 3
   },
   "file_extension": ".py",
   "mimetype": "text/x-python",
   "name": "python",
   "nbconvert_exporter": "python",
   "pygments_lexer": "ipython3",
   "version": "3.11.9"
  }
 },
 "nbformat": 4,
 "nbformat_minor": 2
}
